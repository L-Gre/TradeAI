{
 "cells": [
  {
   "cell_type": "markdown",
   "metadata": {},
   "source": [
    "# Set up"
   ]
  },
  {
   "cell_type": "code",
   "execution_count": 13,
   "metadata": {},
   "outputs": [],
   "source": [
    "# import libraries\n",
    "\n",
    "import pandas as pd\n",
    "import numpy as np"
   ]
  },
  {
   "cell_type": "code",
   "execution_count": 14,
   "metadata": {},
   "outputs": [],
   "source": [
    "# create dataframe\n",
    "\n",
    "data = {\n",
    "    'time' : ['15:48:49', '15:46:10'],\n",
    "    'type' : ['Sell/Close', 'Buy'],\n",
    "    'instrument' : ['EUR/USD', 'EUR/USD'],\n",
    "    'units' : [100000, 100000],\n",
    "    'price' : [1.17791, 1.17775],\n",
    "    'half_spread_cost' : [-9.5, -8.0],\n",
    "    'spread_pips' : [1.90, 1.60]\n",
    "}\n",
    "\n",
    "trades = pd.DataFrame(data)"
   ]
  },
  {
   "cell_type": "code",
   "execution_count": 15,
   "metadata": {},
   "outputs": [
    {
     "data": {
      "text/html": [
       "<div>\n",
       "<style scoped>\n",
       "    .dataframe tbody tr th:only-of-type {\n",
       "        vertical-align: middle;\n",
       "    }\n",
       "\n",
       "    .dataframe tbody tr th {\n",
       "        vertical-align: top;\n",
       "    }\n",
       "\n",
       "    .dataframe thead th {\n",
       "        text-align: right;\n",
       "    }\n",
       "</style>\n",
       "<table border=\"1\" class=\"dataframe\">\n",
       "  <thead>\n",
       "    <tr style=\"text-align: right;\">\n",
       "      <th></th>\n",
       "      <th>time</th>\n",
       "      <th>type</th>\n",
       "      <th>instrument</th>\n",
       "      <th>units</th>\n",
       "      <th>price</th>\n",
       "      <th>half_spread_cost</th>\n",
       "      <th>spread_pips</th>\n",
       "    </tr>\n",
       "  </thead>\n",
       "  <tbody>\n",
       "    <tr>\n",
       "      <th>0</th>\n",
       "      <td>15:48:49</td>\n",
       "      <td>Sell/Close</td>\n",
       "      <td>EUR/USD</td>\n",
       "      <td>100000</td>\n",
       "      <td>1.17791</td>\n",
       "      <td>-9.5</td>\n",
       "      <td>1.9</td>\n",
       "    </tr>\n",
       "    <tr>\n",
       "      <th>1</th>\n",
       "      <td>15:46:10</td>\n",
       "      <td>Buy</td>\n",
       "      <td>EUR/USD</td>\n",
       "      <td>100000</td>\n",
       "      <td>1.17775</td>\n",
       "      <td>-8.0</td>\n",
       "      <td>1.6</td>\n",
       "    </tr>\n",
       "  </tbody>\n",
       "</table>\n",
       "</div>"
      ],
      "text/plain": [
       "       time        type instrument   units    price  half_spread_cost  \\\n",
       "0  15:48:49  Sell/Close    EUR/USD  100000  1.17791              -9.5   \n",
       "1  15:46:10         Buy    EUR/USD  100000  1.17775              -8.0   \n",
       "\n",
       "   spread_pips  \n",
       "0          1.9  \n",
       "1          1.6  "
      ]
     },
     "execution_count": 15,
     "metadata": {},
     "output_type": "execute_result"
    }
   ],
   "source": [
    "trades"
   ]
  },
  {
   "cell_type": "markdown",
   "metadata": {},
   "source": [
    "# Calculate missing variables"
   ]
  },
  {
   "cell_type": "code",
   "execution_count": 16,
   "metadata": {},
   "outputs": [
    {
     "data": {
      "text/html": [
       "<div>\n",
       "<style scoped>\n",
       "    .dataframe tbody tr th:only-of-type {\n",
       "        vertical-align: middle;\n",
       "    }\n",
       "\n",
       "    .dataframe tbody tr th {\n",
       "        vertical-align: top;\n",
       "    }\n",
       "\n",
       "    .dataframe thead th {\n",
       "        text-align: right;\n",
       "    }\n",
       "</style>\n",
       "<table border=\"1\" class=\"dataframe\">\n",
       "  <thead>\n",
       "    <tr style=\"text-align: right;\">\n",
       "      <th></th>\n",
       "      <th>time</th>\n",
       "      <th>type</th>\n",
       "      <th>instrument</th>\n",
       "      <th>units</th>\n",
       "      <th>price</th>\n",
       "      <th>half_spread_cost</th>\n",
       "      <th>spread_pips</th>\n",
       "      <th>trade_value</th>\n",
       "      <th>trade_profit</th>\n",
       "      <th>trade_profit_pips</th>\n",
       "      <th>pip_value</th>\n",
       "      <th>mid_price_hypo</th>\n",
       "    </tr>\n",
       "  </thead>\n",
       "  <tbody>\n",
       "    <tr>\n",
       "      <th>0</th>\n",
       "      <td>15:48:49</td>\n",
       "      <td>Sell/Close</td>\n",
       "      <td>EUR/USD</td>\n",
       "      <td>100000</td>\n",
       "      <td>1.17791</td>\n",
       "      <td>-9.5</td>\n",
       "      <td>1.9</td>\n",
       "      <td>117791.0</td>\n",
       "      <td>16.0</td>\n",
       "      <td>1.6</td>\n",
       "      <td>10.0</td>\n",
       "      <td>NaN</td>\n",
       "    </tr>\n",
       "    <tr>\n",
       "      <th>1</th>\n",
       "      <td>15:46:10</td>\n",
       "      <td>Buy</td>\n",
       "      <td>EUR/USD</td>\n",
       "      <td>100000</td>\n",
       "      <td>1.17775</td>\n",
       "      <td>-8.0</td>\n",
       "      <td>1.6</td>\n",
       "      <td>117775.0</td>\n",
       "      <td>16.0</td>\n",
       "      <td>1.6</td>\n",
       "      <td>10.0</td>\n",
       "      <td>NaN</td>\n",
       "    </tr>\n",
       "  </tbody>\n",
       "</table>\n",
       "</div>"
      ],
      "text/plain": [
       "       time        type instrument   units    price  half_spread_cost  \\\n",
       "0  15:48:49  Sell/Close    EUR/USD  100000  1.17791              -9.5   \n",
       "1  15:46:10         Buy    EUR/USD  100000  1.17775              -8.0   \n",
       "\n",
       "   spread_pips  trade_value  trade_profit  trade_profit_pips  pip_value  \\\n",
       "0          1.9     117791.0          16.0                1.6       10.0   \n",
       "1          1.6     117775.0          16.0                1.6       10.0   \n",
       "\n",
       "   mid_price_hypo  \n",
       "0             NaN  \n",
       "1             NaN  "
      ]
     },
     "execution_count": 16,
     "metadata": {},
     "output_type": "execute_result"
    }
   ],
   "source": [
    "# trade value = units * price\n",
    "trades['trade_value'] = trades.units * trades.price\n",
    "\n",
    "# trade profit = final value - initial value\n",
    "trades['trade_profit'] = trades.trade_value[0] - trades.trade_value[1]\n",
    "\n",
    "# trade profit in pips = (final_price - initial_price) * 10000\n",
    "trades['trade_profit_pips'] = ( trades.price[0] - trades.price[1] ) * 10000\n",
    "\n",
    "# pip value = units * 0.0001\n",
    "trades['pip_value'] = trades.units[1] * 0.0001\n",
    "\n",
    "# half spread costs = 0.5 * spread (pips) * pip value \n",
    "trades['half_spread_cost'] = 0.5 * trades.spread_pips * trades.pip_value * -1\n",
    "\n",
    "# mid price (hypothetical) FV = Price - 0.5 * Spread (Pips) * 0.0001\n",
    "# mid price (hypothetical) IV = Price - 0.5 * Spread (Pips) * 0.0001\n",
    "trades['mid_price_hypo'] = np.nan\n",
    "\n",
    "trades"
   ]
  },
  {
   "cell_type": "code",
   "execution_count": 17,
   "metadata": {},
   "outputs": [
    {
     "data": {
      "text/html": [
       "<div>\n",
       "<style scoped>\n",
       "    .dataframe tbody tr th:only-of-type {\n",
       "        vertical-align: middle;\n",
       "    }\n",
       "\n",
       "    .dataframe tbody tr th {\n",
       "        vertical-align: top;\n",
       "    }\n",
       "\n",
       "    .dataframe thead th {\n",
       "        text-align: right;\n",
       "    }\n",
       "</style>\n",
       "<table border=\"1\" class=\"dataframe\">\n",
       "  <thead>\n",
       "    <tr style=\"text-align: right;\">\n",
       "      <th></th>\n",
       "      <th>time</th>\n",
       "      <th>type</th>\n",
       "      <th>instrument</th>\n",
       "      <th>units</th>\n",
       "      <th>price</th>\n",
       "      <th>half_spread_cost</th>\n",
       "      <th>spread_pips</th>\n",
       "      <th>trade_value</th>\n",
       "      <th>trade_profit</th>\n",
       "      <th>trade_profit_pips</th>\n",
       "      <th>pip_value</th>\n",
       "      <th>mid_price_hypo</th>\n",
       "    </tr>\n",
       "  </thead>\n",
       "  <tbody>\n",
       "    <tr>\n",
       "      <th>0</th>\n",
       "      <td>15:48:49</td>\n",
       "      <td>Sell/Close</td>\n",
       "      <td>EUR/USD</td>\n",
       "      <td>100000</td>\n",
       "      <td>1.17791</td>\n",
       "      <td>-9.5</td>\n",
       "      <td>1.9</td>\n",
       "      <td>117791.0</td>\n",
       "      <td>16.0</td>\n",
       "      <td>1.6</td>\n",
       "      <td>10.0</td>\n",
       "      <td>1.178005</td>\n",
       "    </tr>\n",
       "    <tr>\n",
       "      <th>1</th>\n",
       "      <td>15:46:10</td>\n",
       "      <td>Buy</td>\n",
       "      <td>EUR/USD</td>\n",
       "      <td>100000</td>\n",
       "      <td>1.17775</td>\n",
       "      <td>-8.0</td>\n",
       "      <td>1.6</td>\n",
       "      <td>117775.0</td>\n",
       "      <td>16.0</td>\n",
       "      <td>1.6</td>\n",
       "      <td>10.0</td>\n",
       "      <td>1.177670</td>\n",
       "    </tr>\n",
       "  </tbody>\n",
       "</table>\n",
       "</div>"
      ],
      "text/plain": [
       "       time        type instrument   units    price  half_spread_cost  \\\n",
       "0  15:48:49  Sell/Close    EUR/USD  100000  1.17791              -9.5   \n",
       "1  15:46:10         Buy    EUR/USD  100000  1.17775              -8.0   \n",
       "\n",
       "   spread_pips  trade_value  trade_profit  trade_profit_pips  pip_value  \\\n",
       "0          1.9     117791.0          16.0                1.6       10.0   \n",
       "1          1.6     117775.0          16.0                1.6       10.0   \n",
       "\n",
       "   mid_price_hypo  \n",
       "0        1.178005  \n",
       "1        1.177670  "
      ]
     },
     "execution_count": 17,
     "metadata": {},
     "output_type": "execute_result"
    }
   ],
   "source": [
    "trades.at[0, 'mid_price_hypo'] = trades.price[0] + 0.5 * trades.spread_pips[0] * 0.0001\n",
    "trades.at[1, 'mid_price_hypo'] = trades.price[1] - 0.5 * trades.spread_pips[1] * 0.0001\n",
    "trades"
   ]
  },
  {
   "cell_type": "code",
   "execution_count": 18,
   "metadata": {},
   "outputs": [
    {
     "data": {
      "text/html": [
       "<div>\n",
       "<style scoped>\n",
       "    .dataframe tbody tr th:only-of-type {\n",
       "        vertical-align: middle;\n",
       "    }\n",
       "\n",
       "    .dataframe tbody tr th {\n",
       "        vertical-align: top;\n",
       "    }\n",
       "\n",
       "    .dataframe thead th {\n",
       "        text-align: right;\n",
       "    }\n",
       "</style>\n",
       "<table border=\"1\" class=\"dataframe\">\n",
       "  <thead>\n",
       "    <tr style=\"text-align: right;\">\n",
       "      <th></th>\n",
       "      <th>time</th>\n",
       "      <th>type</th>\n",
       "      <th>instrument</th>\n",
       "      <th>units</th>\n",
       "      <th>price</th>\n",
       "      <th>spread_pips</th>\n",
       "      <th>mid_price_hypo</th>\n",
       "    </tr>\n",
       "  </thead>\n",
       "  <tbody>\n",
       "    <tr>\n",
       "      <th>0</th>\n",
       "      <td>15:48:49</td>\n",
       "      <td>Sell/Close</td>\n",
       "      <td>EUR/USD</td>\n",
       "      <td>100000</td>\n",
       "      <td>1.17791</td>\n",
       "      <td>1.9</td>\n",
       "      <td>1.178005</td>\n",
       "    </tr>\n",
       "    <tr>\n",
       "      <th>1</th>\n",
       "      <td>15:46:10</td>\n",
       "      <td>Buy</td>\n",
       "      <td>EUR/USD</td>\n",
       "      <td>100000</td>\n",
       "      <td>1.17775</td>\n",
       "      <td>1.6</td>\n",
       "      <td>1.177670</td>\n",
       "    </tr>\n",
       "  </tbody>\n",
       "</table>\n",
       "</div>"
      ],
      "text/plain": [
       "       time        type instrument   units    price  spread_pips  \\\n",
       "0  15:48:49  Sell/Close    EUR/USD  100000  1.17791          1.9   \n",
       "1  15:46:10         Buy    EUR/USD  100000  1.17775          1.6   \n",
       "\n",
       "   mid_price_hypo  \n",
       "0        1.178005  \n",
       "1        1.177670  "
      ]
     },
     "execution_count": 18,
     "metadata": {},
     "output_type": "execute_result"
    }
   ],
   "source": [
    "trades[['time', 'type', 'instrument', 'units', 'price', 'spread_pips', 'mid_price_hypo']]"
   ]
  },
  {
   "cell_type": "code",
   "execution_count": 19,
   "metadata": {},
   "outputs": [
    {
     "data": {
      "text/html": [
       "<div>\n",
       "<style scoped>\n",
       "    .dataframe tbody tr th:only-of-type {\n",
       "        vertical-align: middle;\n",
       "    }\n",
       "\n",
       "    .dataframe tbody tr th {\n",
       "        vertical-align: top;\n",
       "    }\n",
       "\n",
       "    .dataframe thead th {\n",
       "        text-align: right;\n",
       "    }\n",
       "</style>\n",
       "<table border=\"1\" class=\"dataframe\">\n",
       "  <thead>\n",
       "    <tr style=\"text-align: right;\">\n",
       "      <th></th>\n",
       "      <th>profit_usd</th>\n",
       "      <th>profit_pips</th>\n",
       "      <th>return</th>\n",
       "    </tr>\n",
       "  </thead>\n",
       "  <tbody>\n",
       "    <tr>\n",
       "      <th>gross_profit</th>\n",
       "      <td>NaN</td>\n",
       "      <td>NaN</td>\n",
       "      <td>NaN</td>\n",
       "    </tr>\n",
       "    <tr>\n",
       "      <th>trading_cost</th>\n",
       "      <td>NaN</td>\n",
       "      <td>NaN</td>\n",
       "      <td>NaN</td>\n",
       "    </tr>\n",
       "    <tr>\n",
       "      <th>net_profit</th>\n",
       "      <td>NaN</td>\n",
       "      <td>NaN</td>\n",
       "      <td>NaN</td>\n",
       "    </tr>\n",
       "  </tbody>\n",
       "</table>\n",
       "</div>"
      ],
      "text/plain": [
       "              profit_usd  profit_pips  return\n",
       "gross_profit         NaN          NaN     NaN\n",
       "trading_cost         NaN          NaN     NaN\n",
       "net_profit           NaN          NaN     NaN"
      ]
     },
     "execution_count": 19,
     "metadata": {},
     "output_type": "execute_result"
    }
   ],
   "source": [
    "data_perf_attribution = {\n",
    "    'profit_usd': {\n",
    "        'gross_profit': np.nan,\n",
    "        'trading_cost': np.nan,\n",
    "        'net_profit': np.nan\n",
    "    },\n",
    "    'profit_pips': {\n",
    "        'gross_profit': np.nan,\n",
    "        'trading_cost': np.nan,\n",
    "        'net_profit': np.nan\n",
    "    },\n",
    "    'return': {\n",
    "        'gross_profit': np.nan,\n",
    "        'trading_cost': np.nan,\n",
    "        'net_profit': np.nan\n",
    "    }\n",
    "}\n",
    "\n",
    "perf_att = pd.DataFrame(data_perf_attribution)\n",
    "\n",
    "perf_att"
   ]
  },
  {
   "cell_type": "markdown",
   "metadata": {},
   "source": [
    "> Label-based indexing: \\\n",
    "> .loc['column_name', 'row_name'] = can use ranges / slice \\\n",
    "> .at['column_name', 'row_name'] = faster for returning single cell"
   ]
  },
  {
   "cell_type": "markdown",
   "metadata": {},
   "source": [
    "# Performance attribution"
   ]
  },
  {
   "cell_type": "markdown",
   "metadata": {},
   "source": [
    "## Gross Profit"
   ]
  },
  {
   "cell_type": "code",
   "execution_count": 20,
   "metadata": {},
   "outputs": [
    {
     "data": {
      "text/html": [
       "<div>\n",
       "<style scoped>\n",
       "    .dataframe tbody tr th:only-of-type {\n",
       "        vertical-align: middle;\n",
       "    }\n",
       "\n",
       "    .dataframe tbody tr th {\n",
       "        vertical-align: top;\n",
       "    }\n",
       "\n",
       "    .dataframe thead th {\n",
       "        text-align: right;\n",
       "    }\n",
       "</style>\n",
       "<table border=\"1\" class=\"dataframe\">\n",
       "  <thead>\n",
       "    <tr style=\"text-align: right;\">\n",
       "      <th></th>\n",
       "      <th>profit_usd</th>\n",
       "      <th>profit_pips</th>\n",
       "      <th>return</th>\n",
       "    </tr>\n",
       "  </thead>\n",
       "  <tbody>\n",
       "    <tr>\n",
       "      <th>gross_profit</th>\n",
       "      <td>33.5</td>\n",
       "      <td>3.35</td>\n",
       "      <td>0.028444</td>\n",
       "    </tr>\n",
       "    <tr>\n",
       "      <th>trading_cost</th>\n",
       "      <td>NaN</td>\n",
       "      <td>NaN</td>\n",
       "      <td>NaN</td>\n",
       "    </tr>\n",
       "    <tr>\n",
       "      <th>net_profit</th>\n",
       "      <td>NaN</td>\n",
       "      <td>NaN</td>\n",
       "      <td>NaN</td>\n",
       "    </tr>\n",
       "  </tbody>\n",
       "</table>\n",
       "</div>"
      ],
      "text/plain": [
       "              profit_usd  profit_pips    return\n",
       "gross_profit        33.5         3.35  0.028444\n",
       "trading_cost         NaN          NaN       NaN\n",
       "net_profit           NaN          NaN       NaN"
      ]
     },
     "execution_count": 20,
     "metadata": {},
     "output_type": "execute_result"
    }
   ],
   "source": [
    "# gross profit (usd) = diff in mid-prices (FV-IV) * number of units\n",
    "perf_att.at['gross_profit', 'profit_usd'] = (trades.mid_price_hypo[0] - trades.mid_price_hypo[1]) * trades.units[0]\n",
    "\n",
    "# gross profit (pips) = diff in mid-prices (FV-IV) * 10000\n",
    "perf_att.at['gross_profit', 'profit_pips'] = (trades.mid_price_hypo[0] - trades.mid_price_hypo[1]) * 10000\n",
    "\n",
    "# return (ROI) = (profit / investment) * 100\n",
    "perf_att.at['gross_profit', 'return'] = perf_att.at['gross_profit', 'profit_usd'] / trades.trade_value[1] * 100\n",
    "\n",
    "perf_att"
   ]
  },
  {
   "cell_type": "markdown",
   "metadata": {},
   "source": [
    "## Trading costs"
   ]
  },
  {
   "cell_type": "code",
   "execution_count": 21,
   "metadata": {},
   "outputs": [
    {
     "data": {
      "text/html": [
       "<div>\n",
       "<style scoped>\n",
       "    .dataframe tbody tr th:only-of-type {\n",
       "        vertical-align: middle;\n",
       "    }\n",
       "\n",
       "    .dataframe tbody tr th {\n",
       "        vertical-align: top;\n",
       "    }\n",
       "\n",
       "    .dataframe thead th {\n",
       "        text-align: right;\n",
       "    }\n",
       "</style>\n",
       "<table border=\"1\" class=\"dataframe\">\n",
       "  <thead>\n",
       "    <tr style=\"text-align: right;\">\n",
       "      <th></th>\n",
       "      <th>profit_usd</th>\n",
       "      <th>profit_pips</th>\n",
       "      <th>return</th>\n",
       "    </tr>\n",
       "  </thead>\n",
       "  <tbody>\n",
       "    <tr>\n",
       "      <th>gross_profit</th>\n",
       "      <td>33.5</td>\n",
       "      <td>3.35</td>\n",
       "      <td>0.028444</td>\n",
       "    </tr>\n",
       "    <tr>\n",
       "      <th>trading_cost</th>\n",
       "      <td>17.5</td>\n",
       "      <td>1.75</td>\n",
       "      <td>0.001486</td>\n",
       "    </tr>\n",
       "    <tr>\n",
       "      <th>net_profit</th>\n",
       "      <td>NaN</td>\n",
       "      <td>NaN</td>\n",
       "      <td>NaN</td>\n",
       "    </tr>\n",
       "  </tbody>\n",
       "</table>\n",
       "</div>"
      ],
      "text/plain": [
       "              profit_usd  profit_pips    return\n",
       "gross_profit        33.5         3.35  0.028444\n",
       "trading_cost        17.5         1.75  0.001486\n",
       "net_profit           NaN          NaN       NaN"
      ]
     },
     "execution_count": 21,
     "metadata": {},
     "output_type": "execute_result"
    }
   ],
   "source": [
    "# total cost = sum(Half Spread Costs)\n",
    "perf_att.at['trading_cost', 'profit_usd'] = abs(sum(trades.half_spread_cost))\n",
    "\n",
    "# cost in pips = avg(profit in pips)\n",
    "perf_att.at['trading_cost', 'profit_pips'] = np.mean(trades.spread_pips)\n",
    "\n",
    "# impact of cost on initial investment = profit (in pips) / initial investment * 100\n",
    "perf_att.at['trading_cost', 'return'] = perf_att.at['trading_cost', 'profit_pips'] / trades.trade_value[1] * 100\n",
    "\n",
    "perf_att"
   ]
  },
  {
   "cell_type": "markdown",
   "metadata": {},
   "source": [
    "## Net Profit"
   ]
  },
  {
   "cell_type": "code",
   "execution_count": 22,
   "metadata": {},
   "outputs": [
    {
     "data": {
      "text/html": [
       "<div>\n",
       "<style scoped>\n",
       "    .dataframe tbody tr th:only-of-type {\n",
       "        vertical-align: middle;\n",
       "    }\n",
       "\n",
       "    .dataframe tbody tr th {\n",
       "        vertical-align: top;\n",
       "    }\n",
       "\n",
       "    .dataframe thead th {\n",
       "        text-align: right;\n",
       "    }\n",
       "</style>\n",
       "<table border=\"1\" class=\"dataframe\">\n",
       "  <thead>\n",
       "    <tr style=\"text-align: right;\">\n",
       "      <th></th>\n",
       "      <th>profit_usd</th>\n",
       "      <th>profit_pips</th>\n",
       "      <th>return</th>\n",
       "    </tr>\n",
       "  </thead>\n",
       "  <tbody>\n",
       "    <tr>\n",
       "      <th>gross_profit</th>\n",
       "      <td>33.5</td>\n",
       "      <td>3.35</td>\n",
       "      <td>0.028444</td>\n",
       "    </tr>\n",
       "    <tr>\n",
       "      <th>trading_cost</th>\n",
       "      <td>17.5</td>\n",
       "      <td>1.75</td>\n",
       "      <td>0.001486</td>\n",
       "    </tr>\n",
       "    <tr>\n",
       "      <th>net_profit</th>\n",
       "      <td>16.0</td>\n",
       "      <td>1.60</td>\n",
       "      <td>0.026958</td>\n",
       "    </tr>\n",
       "  </tbody>\n",
       "</table>\n",
       "</div>"
      ],
      "text/plain": [
       "              profit_usd  profit_pips    return\n",
       "gross_profit        33.5         3.35  0.028444\n",
       "trading_cost        17.5         1.75  0.001486\n",
       "net_profit          16.0         1.60  0.026958"
      ]
     },
     "execution_count": 22,
     "metadata": {},
     "output_type": "execute_result"
    }
   ],
   "source": [
    "# net profit = gross profit - cost\n",
    "perf_att.at['net_profit', 'profit_usd'] = perf_att.at['gross_profit', 'profit_usd'] - perf_att.at['trading_cost', 'profit_usd']\n",
    "\n",
    "# profit (pips) = gross profit (pips) - cost (pips)\n",
    "perf_att.at['net_profit', 'profit_pips'] = perf_att.at['gross_profit', 'profit_pips'] - perf_att.at['trading_cost', 'profit_pips']\n",
    "\n",
    "# net profit (return) = gross profit (return) - cost (return)\n",
    "perf_att.at['net_profit', 'return'] = perf_att.at['gross_profit', 'return'] - perf_att.at['trading_cost', 'return']\n",
    "\n",
    "perf_att"
   ]
  },
  {
   "cell_type": "markdown",
   "metadata": {},
   "source": [
    "#  Notes\n",
    "\n",
    "**Trading costs**: almost 75% of day traders lose money due to cost of exessive transactions \\\n",
    "\\\n",
    "**Mid price**: 'hypothetical' because can't buy or sell at mid price"
   ]
  }
 ],
 "metadata": {
  "kernelspec": {
   "display_name": "base",
   "language": "python",
   "name": "python3"
  },
  "language_info": {
   "codemirror_mode": {
    "name": "ipython",
    "version": 3
   },
   "file_extension": ".py",
   "mimetype": "text/x-python",
   "name": "python",
   "nbconvert_exporter": "python",
   "pygments_lexer": "ipython3",
   "version": "3.12.7"
  }
 },
 "nbformat": 4,
 "nbformat_minor": 2
}
