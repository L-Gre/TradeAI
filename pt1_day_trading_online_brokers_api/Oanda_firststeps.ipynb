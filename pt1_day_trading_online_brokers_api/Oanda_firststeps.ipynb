{
 "cells": [
  {
   "cell_type": "markdown",
   "metadata": {},
   "source": [
    "# First Steps with the OANDA API"
   ]
  },
  {
   "cell_type": "markdown",
   "metadata": {},
   "source": [
    "## Connecting to the API / Server"
   ]
  },
  {
   "cell_type": "code",
   "execution_count": 1,
   "metadata": {},
   "outputs": [],
   "source": [
    "import pandas as pd\n",
    "import tpqoa"
   ]
  },
  {
   "cell_type": "code",
   "execution_count": 2,
   "metadata": {},
   "outputs": [],
   "source": [
    "api = tpqoa.tpqoa(\"oanda.cfg\")"
   ]
  },
  {
   "cell_type": "code",
   "execution_count": 3,
   "metadata": {},
   "outputs": [
    {
     "data": {
      "text/plain": [
       "{'id': '101-004-30845775-002',\n",
       " 'alias': 'USD_Account',\n",
       " 'currency': 'USD',\n",
       " 'balance': '99965.0',\n",
       " 'createdByUserID': 30845775,\n",
       " 'createdTime': '2025-01-17T19:26:22.171868793Z',\n",
       " 'guaranteedStopLossOrderMode': 'ALLOWED',\n",
       " 'pl': '-35.0',\n",
       " 'resettablePL': '-35.0',\n",
       " 'resettablePLTime': '0',\n",
       " 'financing': '0.0',\n",
       " 'commission': '0.0',\n",
       " 'guaranteedExecutionFees': '0.0',\n",
       " 'marginRate': '0.03333333333333',\n",
       " 'openTradeCount': 0,\n",
       " 'openPositionCount': 0,\n",
       " 'pendingOrderCount': 0,\n",
       " 'hedgingEnabled': False,\n",
       " 'unrealizedPL': '0.0',\n",
       " 'NAV': '99965.0',\n",
       " 'marginUsed': '0.0',\n",
       " 'marginAvailable': '99965.0',\n",
       " 'positionValue': '0.0',\n",
       " 'marginCloseoutUnrealizedPL': '0.0',\n",
       " 'marginCloseoutNAV': '99965.0',\n",
       " 'marginCloseoutMarginUsed': '0.0',\n",
       " 'marginCloseoutPercent': '0.0',\n",
       " 'marginCloseoutPositionValue': '0.0',\n",
       " 'withdrawalLimit': '99965.0',\n",
       " 'marginCallMarginUsed': '0.0',\n",
       " 'marginCallPercent': '0.0',\n",
       " 'lastTransactionID': '32'}"
      ]
     },
     "execution_count": 3,
     "metadata": {},
     "output_type": "execute_result"
    }
   ],
   "source": [
    "api.get_account_summary()"
   ]
  },
  {
   "cell_type": "code",
   "execution_count": 4,
   "metadata": {},
   "outputs": [
    {
     "data": {
      "text/plain": [
       "'practice'"
      ]
     },
     "execution_count": 4,
     "metadata": {},
     "output_type": "execute_result"
    }
   ],
   "source": [
    "api.account_type"
   ]
  },
  {
   "cell_type": "code",
   "execution_count": 5,
   "metadata": {},
   "outputs": [
    {
     "data": {
      "text/plain": [
       "'101-004-30845775-002'"
      ]
     },
     "execution_count": 5,
     "metadata": {},
     "output_type": "execute_result"
    }
   ],
   "source": [
    "api.account_id"
   ]
  },
  {
   "cell_type": "code",
   "execution_count": 6,
   "metadata": {},
   "outputs": [
    {
     "data": {
      "text/plain": [
       "[('AUD/CAD', 'AUD_CAD'),\n",
       " ('AUD/CHF', 'AUD_CHF'),\n",
       " ('AUD/HKD', 'AUD_HKD'),\n",
       " ('AUD/JPY', 'AUD_JPY'),\n",
       " ('AUD/NZD', 'AUD_NZD'),\n",
       " ('AUD/SGD', 'AUD_SGD'),\n",
       " ('AUD/USD', 'AUD_USD'),\n",
       " ('Australia 200', 'AU200_AUD'),\n",
       " ('Brent Crude Oil', 'BCO_USD'),\n",
       " ('Bund', 'DE10YB_EUR'),\n",
       " ('CAD/CHF', 'CAD_CHF'),\n",
       " ('CAD/HKD', 'CAD_HKD'),\n",
       " ('CAD/JPY', 'CAD_JPY'),\n",
       " ('CAD/SGD', 'CAD_SGD'),\n",
       " ('CHF/HKD', 'CHF_HKD'),\n",
       " ('CHF/JPY', 'CHF_JPY'),\n",
       " ('CHF/ZAR', 'CHF_ZAR'),\n",
       " ('China A50', 'CN50_USD'),\n",
       " ('China H Shares', 'CHINAH_HKD'),\n",
       " ('Copper', 'XCU_USD'),\n",
       " ('Corn', 'CORN_USD'),\n",
       " ('EUR/AUD', 'EUR_AUD'),\n",
       " ('EUR/CAD', 'EUR_CAD'),\n",
       " ('EUR/CHF', 'EUR_CHF'),\n",
       " ('EUR/CZK', 'EUR_CZK'),\n",
       " ('EUR/DKK', 'EUR_DKK'),\n",
       " ('EUR/GBP', 'EUR_GBP'),\n",
       " ('EUR/HKD', 'EUR_HKD'),\n",
       " ('EUR/HUF', 'EUR_HUF'),\n",
       " ('EUR/JPY', 'EUR_JPY'),\n",
       " ('EUR/NOK', 'EUR_NOK'),\n",
       " ('EUR/NZD', 'EUR_NZD'),\n",
       " ('EUR/PLN', 'EUR_PLN'),\n",
       " ('EUR/SEK', 'EUR_SEK'),\n",
       " ('EUR/SGD', 'EUR_SGD'),\n",
       " ('EUR/TRY', 'EUR_TRY'),\n",
       " ('EUR/USD', 'EUR_USD'),\n",
       " ('EUR/ZAR', 'EUR_ZAR'),\n",
       " ('Europe 50', 'EU50_EUR'),\n",
       " ('France 40', 'FR40_EUR'),\n",
       " ('GBP/AUD', 'GBP_AUD'),\n",
       " ('GBP/CAD', 'GBP_CAD'),\n",
       " ('GBP/CHF', 'GBP_CHF'),\n",
       " ('GBP/HKD', 'GBP_HKD'),\n",
       " ('GBP/JPY', 'GBP_JPY'),\n",
       " ('GBP/NZD', 'GBP_NZD'),\n",
       " ('GBP/PLN', 'GBP_PLN'),\n",
       " ('GBP/SGD', 'GBP_SGD'),\n",
       " ('GBP/USD', 'GBP_USD'),\n",
       " ('GBP/ZAR', 'GBP_ZAR'),\n",
       " ('Germany 30', 'DE30_EUR'),\n",
       " ('Gold', 'XAU_USD'),\n",
       " ('Gold/AUD', 'XAU_AUD'),\n",
       " ('Gold/CAD', 'XAU_CAD'),\n",
       " ('Gold/CHF', 'XAU_CHF'),\n",
       " ('Gold/EUR', 'XAU_EUR'),\n",
       " ('Gold/GBP', 'XAU_GBP'),\n",
       " ('Gold/HKD', 'XAU_HKD'),\n",
       " ('Gold/JPY', 'XAU_JPY'),\n",
       " ('Gold/NZD', 'XAU_NZD'),\n",
       " ('Gold/SGD', 'XAU_SGD'),\n",
       " ('Gold/Silver', 'XAU_XAG'),\n",
       " ('HKD/JPY', 'HKD_JPY'),\n",
       " ('Hong Kong 33', 'HK33_HKD'),\n",
       " ('Japan 225', 'JP225_USD'),\n",
       " ('Japan 225 (JPY)', 'JP225Y_JPY'),\n",
       " ('NZD/CAD', 'NZD_CAD'),\n",
       " ('NZD/CHF', 'NZD_CHF'),\n",
       " ('NZD/HKD', 'NZD_HKD'),\n",
       " ('NZD/JPY', 'NZD_JPY'),\n",
       " ('NZD/SGD', 'NZD_SGD'),\n",
       " ('NZD/USD', 'NZD_USD'),\n",
       " ('Natural Gas', 'NATGAS_USD'),\n",
       " ('Netherlands 25', 'NL25_EUR'),\n",
       " ('Palladium', 'XPD_USD'),\n",
       " ('Platinum', 'XPT_USD'),\n",
       " ('SGD/CHF', 'SGD_CHF'),\n",
       " ('SGD/JPY', 'SGD_JPY'),\n",
       " ('Silver', 'XAG_USD'),\n",
       " ('Silver/AUD', 'XAG_AUD'),\n",
       " ('Silver/CAD', 'XAG_CAD'),\n",
       " ('Silver/CHF', 'XAG_CHF'),\n",
       " ('Silver/EUR', 'XAG_EUR'),\n",
       " ('Silver/GBP', 'XAG_GBP'),\n",
       " ('Silver/HKD', 'XAG_HKD'),\n",
       " ('Silver/JPY', 'XAG_JPY'),\n",
       " ('Silver/NZD', 'XAG_NZD'),\n",
       " ('Silver/SGD', 'XAG_SGD'),\n",
       " ('Singapore 30', 'SG30_SGD'),\n",
       " ('Soybeans', 'SOYBN_USD'),\n",
       " ('Spain 35', 'ESPIX_EUR'),\n",
       " ('Sugar', 'SUGAR_USD'),\n",
       " ('Switzerland 20', 'CH20_CHF'),\n",
       " ('TRY/JPY', 'TRY_JPY'),\n",
       " ('UK 100', 'UK100_GBP'),\n",
       " ('UK 10Y Gilt', 'UK10YB_GBP'),\n",
       " ('US 10Y T-Note', 'USB10Y_USD'),\n",
       " ('US 2Y T-Note', 'USB02Y_USD'),\n",
       " ('US 5Y T-Note', 'USB05Y_USD'),\n",
       " ('US Nas 100', 'NAS100_USD'),\n",
       " ('US Russ 2000', 'US2000_USD'),\n",
       " ('US SPX 500', 'SPX500_USD'),\n",
       " ('US T-Bond', 'USB30Y_USD'),\n",
       " ('US Wall St 30', 'US30_USD'),\n",
       " ('USD/CAD', 'USD_CAD'),\n",
       " ('USD/CHF', 'USD_CHF'),\n",
       " ('USD/CNH', 'USD_CNH'),\n",
       " ('USD/CZK', 'USD_CZK'),\n",
       " ('USD/DKK', 'USD_DKK'),\n",
       " ('USD/HKD', 'USD_HKD'),\n",
       " ('USD/HUF', 'USD_HUF'),\n",
       " ('USD/JPY', 'USD_JPY'),\n",
       " ('USD/MXN', 'USD_MXN'),\n",
       " ('USD/NOK', 'USD_NOK'),\n",
       " ('USD/PLN', 'USD_PLN'),\n",
       " ('USD/SEK', 'USD_SEK'),\n",
       " ('USD/SGD', 'USD_SGD'),\n",
       " ('USD/THB', 'USD_THB'),\n",
       " ('USD/TRY', 'USD_TRY'),\n",
       " ('USD/ZAR', 'USD_ZAR'),\n",
       " ('West Texas Oil', 'WTICO_USD'),\n",
       " ('Wheat', 'WHEAT_USD'),\n",
       " ('ZAR/JPY', 'ZAR_JPY')]"
      ]
     },
     "execution_count": 6,
     "metadata": {},
     "output_type": "execute_result"
    }
   ],
   "source": [
    "api.get_instruments()"
   ]
  },
  {
   "cell_type": "code",
   "execution_count": 7,
   "metadata": {},
   "outputs": [],
   "source": [
    "instr = api.get_instruments()"
   ]
  },
  {
   "cell_type": "code",
   "execution_count": 8,
   "metadata": {},
   "outputs": [
    {
     "data": {
      "text/plain": [
       "123"
      ]
     },
     "execution_count": 8,
     "metadata": {},
     "output_type": "execute_result"
    }
   ],
   "source": [
    "len(instr)"
   ]
  },
  {
   "cell_type": "code",
   "execution_count": 9,
   "metadata": {},
   "outputs": [
    {
     "data": {
      "text/plain": [
       "('AUD/CAD', 'AUD_CAD')"
      ]
     },
     "execution_count": 9,
     "metadata": {},
     "output_type": "execute_result"
    }
   ],
   "source": [
    "instr[0]"
   ]
  },
  {
   "cell_type": "markdown",
   "metadata": {},
   "source": [
    "## Getting Historical Data (Part 1)"
   ]
  },
  {
   "cell_type": "code",
   "execution_count": null,
   "metadata": {},
   "outputs": [],
   "source": [
    "import pandas as pd\n",
    "import tpqoa\n",
    "import warnings\n",
    "warnings.filterwarnings('ignore')"
   ]
  },
  {
   "cell_type": "code",
   "execution_count": null,
   "metadata": {},
   "outputs": [],
   "source": [
    "api = tpqoa.tpqoa(\"oanda.cfg\")"
   ]
  },
  {
   "cell_type": "code",
   "execution_count": null,
   "metadata": {},
   "outputs": [],
   "source": [
    "help(api.get_history)"
   ]
  },
  {
   "cell_type": "code",
   "execution_count": null,
   "metadata": {},
   "outputs": [],
   "source": [
    "api.get_history(instrument = \"EUR_USD\", start = \"2024-07-01\", end = \"2024-07-31\",\n",
    "                granularity = \"D\", price = \"B\")"
   ]
  },
  {
   "cell_type": "code",
   "execution_count": null,
   "metadata": {},
   "outputs": [],
   "source": [
    "df = api.get_history(instrument = \"EUR_USD\", start = \"2024-07-01\", end = \"2024-07-31\",\n",
    "                granularity = \"D\", price = \"B\")"
   ]
  },
  {
   "cell_type": "code",
   "execution_count": null,
   "metadata": {},
   "outputs": [],
   "source": [
    "df.info()"
   ]
  },
  {
   "cell_type": "code",
   "execution_count": null,
   "metadata": {},
   "outputs": [],
   "source": [
    "api.get_history(instrument = \"EUR_USD\", start = \"2024-07-01\", end = \"2024-07-01\",\n",
    "                granularity = \"D\", price = \"A\")"
   ]
  },
  {
   "cell_type": "code",
   "execution_count": null,
   "metadata": {},
   "outputs": [],
   "source": [
    "api.get_history(instrument = \"EUR_USD\", start = \"2024-07-01\", end = \"2024-07-01\",\n",
    "                granularity = \"D\", price = \"B\")"
   ]
  },
  {
   "cell_type": "code",
   "execution_count": null,
   "metadata": {},
   "outputs": [],
   "source": []
  },
  {
   "cell_type": "markdown",
   "metadata": {},
   "source": [
    "## Getting Historical Data (Part 2)"
   ]
  },
  {
   "cell_type": "code",
   "execution_count": null,
   "metadata": {},
   "outputs": [],
   "source": [
    "api.get_history(\"EUR_USD\", \"2024-09-03\", \"2024-09-05\", \"H1\", \"A\")"
   ]
  },
  {
   "cell_type": "code",
   "execution_count": null,
   "metadata": {},
   "outputs": [],
   "source": [
    "api.get_history(\"EUR_USD\", \"2024-09-03\", \"2024-09-05\", \"H12\", \"A\")"
   ]
  },
  {
   "cell_type": "code",
   "execution_count": null,
   "metadata": {},
   "outputs": [],
   "source": [
    "api.get_history(\"EUR_USD\", \"2024-09-03\", \"2024-09-05\", \"M1\", \"A\")"
   ]
  },
  {
   "cell_type": "code",
   "execution_count": null,
   "metadata": {},
   "outputs": [],
   "source": [
    "api.get_history(\"EUR_USD\", \"2024-09-03\", \"2024-09-04\", \"S5\", \"A\") # drops a Future Warning -> can be ignored for now"
   ]
  },
  {
   "cell_type": "code",
   "execution_count": null,
   "metadata": {},
   "outputs": [],
   "source": [
    "api.get_instruments()"
   ]
  },
  {
   "cell_type": "code",
   "execution_count": null,
   "metadata": {},
   "outputs": [],
   "source": [
    "api.get_history(\"SPX500_USD\", \"2024-09-03\", \"2024-09-04\", \"H1\", \"A\")"
   ]
  },
  {
   "cell_type": "code",
   "execution_count": null,
   "metadata": {},
   "outputs": [],
   "source": []
  },
  {
   "cell_type": "markdown",
   "metadata": {},
   "source": [
    "## Streaming high-frequency real-time Data"
   ]
  },
  {
   "cell_type": "code",
   "execution_count": null,
   "metadata": {},
   "outputs": [],
   "source": [
    "import pandas as pd\n",
    "import tpqoa"
   ]
  },
  {
   "cell_type": "code",
   "execution_count": null,
   "metadata": {},
   "outputs": [],
   "source": [
    "api = tpqoa.tpqoa(\"oanda.cfg\")"
   ]
  },
  {
   "cell_type": "code",
   "execution_count": null,
   "metadata": {},
   "outputs": [],
   "source": [
    "api.stream_data('EUR_USD', stop = 10) "
   ]
  },
  {
   "cell_type": "code",
   "execution_count": null,
   "metadata": {},
   "outputs": [],
   "source": [
    "#api.stop_stream()"
   ]
  },
  {
   "cell_type": "code",
   "execution_count": null,
   "metadata": {},
   "outputs": [],
   "source": []
  },
  {
   "cell_type": "markdown",
   "metadata": {},
   "source": [
    "## Creating Orders and Executing Trades"
   ]
  },
  {
   "cell_type": "code",
   "execution_count": null,
   "metadata": {},
   "outputs": [],
   "source": [
    "import pandas as pd\n",
    "import tpqoa"
   ]
  },
  {
   "cell_type": "code",
   "execution_count": null,
   "metadata": {},
   "outputs": [],
   "source": [
    "api = tpqoa.tpqoa(\"oanda.cfg\")"
   ]
  },
  {
   "cell_type": "code",
   "execution_count": null,
   "metadata": {},
   "outputs": [],
   "source": [
    "api.create_order(instrument = \"EUR_USD\", units = 100000, sl_distance= 0.1)"
   ]
  },
  {
   "cell_type": "code",
   "execution_count": null,
   "metadata": {},
   "outputs": [],
   "source": [
    "api.create_order(instrument = \"EUR_USD\", units = -100000, sl_distance= 0.1)"
   ]
  },
  {
   "cell_type": "code",
   "execution_count": null,
   "metadata": {
    "scrolled": true
   },
   "outputs": [],
   "source": [
    "api.get_account_summary()"
   ]
  },
  {
   "cell_type": "code",
   "execution_count": null,
   "metadata": {},
   "outputs": [],
   "source": [
    "api.get_transactions(tid = 1) # insert the id of the first trade in this session"
   ]
  },
  {
   "cell_type": "code",
   "execution_count": null,
   "metadata": {},
   "outputs": [],
   "source": [
    "api.print_transactions(tid = 1) # insert the id of the first trade in this session"
   ]
  },
  {
   "cell_type": "code",
   "execution_count": null,
   "metadata": {},
   "outputs": [],
   "source": []
  }
 ],
 "metadata": {
  "kernelspec": {
   "display_name": "base",
   "language": "python",
   "name": "python3"
  },
  "language_info": {
   "codemirror_mode": {
    "name": "ipython",
    "version": 3
   },
   "file_extension": ".py",
   "mimetype": "text/x-python",
   "name": "python",
   "nbconvert_exporter": "python",
   "pygments_lexer": "ipython3",
   "version": "3.12.7"
  }
 },
 "nbformat": 4,
 "nbformat_minor": 4
}
