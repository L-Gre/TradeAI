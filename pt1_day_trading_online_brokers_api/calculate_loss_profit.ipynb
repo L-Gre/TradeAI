{
 "cells": [
  {
   "cell_type": "code",
   "execution_count": 1,
   "metadata": {},
   "outputs": [],
   "source": [
    "# import libraries\n",
    "\n",
    "import pandas as pd\n",
    "import numpy as np"
   ]
  },
  {
   "cell_type": "code",
   "execution_count": 3,
   "metadata": {},
   "outputs": [],
   "source": [
    "# create dataframe\n",
    "\n",
    "data = {\n",
    "    'Time' : ['15:48:49', '15:46:10'],\n",
    "    'Type' : ['Sell/Close', 'Buy'],\n",
    "    'Instrument' : ['EUR/USD', 'EUR/USD'],\n",
    "    'Units' : [100000, 100000],\n",
    "    'Price' : [1.17791, 1.17775]\n",
    "}\n",
    "\n",
    "trades = pd.DataFrame(data)\n",
    "                               \n"
   ]
  },
  {
   "cell_type": "code",
   "execution_count": null,
   "metadata": {},
   "outputs": [],
   "source": [
    "trades['Trade_Value'] = trades.Units * trades.Price"
   ]
  },
  {
   "cell_type": "code",
   "execution_count": 20,
   "metadata": {},
   "outputs": [],
   "source": [
    "# trade value = units * price\n",
    "trades['Trade_Value'] = trades.Units * trades.Price\n",
    "\n",
    "# trade profit = finishing value - starting value\n",
    "trades['Trade_Profit'] = trades.Trade_Value[0] - trades.Trade_Value[1]\n",
    "\n",
    "# trade profit in pips = profit / 10\n",
    "trades['Trade_Profit_Pips'] = trades.Trade_Profit[0]/10"
   ]
  },
  {
   "cell_type": "code",
   "execution_count": 21,
   "metadata": {},
   "outputs": [
    {
     "data": {
      "text/html": [
       "<div>\n",
       "<style scoped>\n",
       "    .dataframe tbody tr th:only-of-type {\n",
       "        vertical-align: middle;\n",
       "    }\n",
       "\n",
       "    .dataframe tbody tr th {\n",
       "        vertical-align: top;\n",
       "    }\n",
       "\n",
       "    .dataframe thead th {\n",
       "        text-align: right;\n",
       "    }\n",
       "</style>\n",
       "<table border=\"1\" class=\"dataframe\">\n",
       "  <thead>\n",
       "    <tr style=\"text-align: right;\">\n",
       "      <th></th>\n",
       "      <th>Time</th>\n",
       "      <th>Type</th>\n",
       "      <th>Instrument</th>\n",
       "      <th>Units</th>\n",
       "      <th>Price</th>\n",
       "      <th>Trade_Value</th>\n",
       "      <th>Trade_Profit</th>\n",
       "      <th>Trade_Profit_Pips</th>\n",
       "    </tr>\n",
       "  </thead>\n",
       "  <tbody>\n",
       "    <tr>\n",
       "      <th>0</th>\n",
       "      <td>15:48:49</td>\n",
       "      <td>Sell/Close</td>\n",
       "      <td>EUR/USD</td>\n",
       "      <td>100000</td>\n",
       "      <td>1.17791</td>\n",
       "      <td>117,791.00000</td>\n",
       "      <td>16.00000</td>\n",
       "      <td>1.60000</td>\n",
       "    </tr>\n",
       "    <tr>\n",
       "      <th>1</th>\n",
       "      <td>15:46:10</td>\n",
       "      <td>Buy</td>\n",
       "      <td>EUR/USD</td>\n",
       "      <td>100000</td>\n",
       "      <td>1.17775</td>\n",
       "      <td>117,775.00000</td>\n",
       "      <td>16.00000</td>\n",
       "      <td>1.60000</td>\n",
       "    </tr>\n",
       "  </tbody>\n",
       "</table>\n",
       "</div>"
      ],
      "text/plain": [
       "       Time        Type Instrument   Units   Price   Trade_Value  \\\n",
       "0  15:48:49  Sell/Close    EUR/USD  100000 1.17791 117,791.00000   \n",
       "1  15:46:10         Buy    EUR/USD  100000 1.17775 117,775.00000   \n",
       "\n",
       "   Trade_Profit  Trade_Profit_Pips  \n",
       "0      16.00000            1.60000  \n",
       "1      16.00000            1.60000  "
      ]
     },
     "execution_count": 21,
     "metadata": {},
     "output_type": "execute_result"
    }
   ],
   "source": [
    "trades"
   ]
  }
 ],
 "metadata": {
  "kernelspec": {
   "display_name": "base",
   "language": "python",
   "name": "python3"
  },
  "language_info": {
   "codemirror_mode": {
    "name": "ipython",
    "version": 3
   },
   "file_extension": ".py",
   "mimetype": "text/x-python",
   "name": "python",
   "nbconvert_exporter": "python",
   "pygments_lexer": "ipython3",
   "version": "3.12.7"
  }
 },
 "nbformat": 4,
 "nbformat_minor": 2
}
